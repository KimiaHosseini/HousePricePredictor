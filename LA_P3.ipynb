{
 "cells": [
  {
   "cell_type": "markdown",
   "metadata": {},
   "source": [
    "<div style=\"font-size: 30px\"> <center> Linear Algebra </center></div>\n",
    "<center> fall 2023 </center>\n",
    "<center> Instructor: </center>\n",
    "<center> Dr.Ehsan Nazerfard </center> <br>\n",
    "<center> TAs: </center>\n",
    "<center> Sara Rouhani,\n",
    "Amir Hossein Poulad,\n",
    "Mohammad Heydari Rad,\n",
    "Asal Delkhosh,\n",
    "Mohammad Hossein Aref,\n",
    "Amir Mohammad Jafari,\n",
    "Samin Mahdi Pour,\n",
    "Mohammad Eshrat Abadi </center>"
   ]
  },
  {
   "cell_type": "markdown",
   "metadata": {},
   "source": [
    "#### <div style=\"text-align: center; color: #888888; font-size: 30px\">پروژه سوم درس جبر خطی کاربردی</div>\n",
    "#### <div style=\"text-align: center; color: #888888\">پیش بینی قیمت خانه</div>"
   ]
  },
  {
   "cell_type": "markdown",
   "metadata": {},
   "source": [
    "<div style=\"text-align: right\">\n",
    "در این پروژه قصد داریم که با استفاده از داده‌های آماری مساحت خانه و قیمت متناظر آن در یک منطقه خاص، قیمت خانه‌ها را برای مساحت‌ها مختلف پیش بینی کنیم.\n",
    "<br/><br/>\n",
    "در تصویر زیر می‌توانید پراکندگی داده‌های آماری برای قیمت به ازای مساحت را مشاهده نمایید. هدف ما این است که با پیدا کردن خطی که کمترین فاصله را از داده‌ها دارد، بتوانیم قیمت تقریبی را برای مساحت‌های مختلف (از جمله مساحت‌هایی که داده‌ی مشخصی برای آنها وجود ندارد.) به دست آوریم.\n",
    "<br/>"
   ]
  },
  {
   "cell_type": "markdown",
   "metadata": {},
   "source": [
    "<img src=\"photos/data.png\" style=\"margin-left:auto; margin-right:auto\"/>"
   ]
  },
  {
   "cell_type": "markdown",
   "metadata": {},
   "source": [
    "<div style=\"text-align: right\">\n",
    "در اینجا در نظر میگیریم گه داده‌های مساحت خانه، درایه‌ها ماتریس A را تشکیل می‌دهند و داده‌های قیمت درایه‌های متناظر ماتریس b را، در این حالت که Ax = b پاسخی ندارد، چرا که همانطور که مشخص است، هیچ خطی از تمام نقاط نشان داده شده عبور نمی‌کند.\n",
    "<br/><br/>\n",
    "پس در این صورت می‌توانیم least square solution را طبق تعریف زیر به دست بیاوریم.\n",
    "<br/>"
   ]
  },
  {
   "cell_type": "markdown",
   "metadata": {},
   "source": [
    "<img src=\"photos/def.png\" style=\"margin-left:auto; margin-right:auto\"/>"
   ]
  },
  {
   "cell_type": "markdown",
   "metadata": {},
   "source": [
    "<div style=\"text-align: right\">\n",
    "برای حل این مسئله، مراحل زیر را دنبال می‌کنیم:\n",
    "<br/><br/>\n",
    "مرحله اول: داده‌ها را از دیتاست بخوانید (این مرحله تکمیل شده است، در نهایت شما دو آرایه به نام‌ها area و price دارید که متناظرا، مساحت و قیمت یک خانه را مشخص می‌کنند.)\n",
    "<br/><br/>\n",
    "مرحله دوم: با پیدا کردن جواب least square، شیب و عرض از مبدا خط مورد نظر را به دست آورید.\n",
    "<br/><br/>\n",
    "مرحله سوم: با استفاده از کتابخانه plot، جواب به دست آمده را در کنار داده‌ها نشان دهید.\n",
    "<br/><br/>\n",
    "مرحله چهارم: Mean Squared Error را برای پاسخ به دست آمده محاسبه کنید.\n",
    "<br/><br/>\n",
    "مرجله پنجم: تابع predict را متناسب با جواب به دست آمده تکمیل کنید، درستی جواب به دست آمده را می‌توانید با بررسی test case‌هایی که در انتها آمدهآند مشخص کنید.\n",
    "<br/>"
   ]
  },
  {
   "cell_type": "code",
   "execution_count": 1,
   "metadata": {},
   "outputs": [],
   "source": [
    "import pandas as pd\n",
    "import matplotlib.pyplot as plt\n",
    "import numpy as np\n",
    "from numpy.linalg import inv"
   ]
  },
  {
   "cell_type": "markdown",
   "metadata": {},
   "source": [
    "<div style=\"text-align: right\">\n",
    "مرحله اول : خواندن داده‌ها\n",
    "</div>"
   ]
  },
  {
   "cell_type": "code",
   "execution_count": 3,
   "metadata": {
    "pycharm": {
     "is_executing": true
    }
   },
   "outputs": [
    {
     "name": "stdout",
     "output_type": "stream",
     "text": [
      "Rows num:  1432 \n",
      "\n"
     ]
    }
   ],
   "source": [
    "data_set = pd.read_csv('./dataset/house_dataset.csv')\n",
    "print (\"Rows num: \", data_set.size, \"\\n\")\n",
    "\n",
    "area = data_set.loc[0:]['Area']\n",
    "price = data_set.loc[0:]['Price']"
   ]
  },
  {
   "cell_type": "markdown",
   "metadata": {},
   "source": [
    "<div style=\"text-align: right\">\n",
    "مرحله دوم: محاسبه جواب least sqaure و به دست آوردن مشخصات خط پاسخ\n",
    "</div>"
   ]
  },
  {
   "cell_type": "code",
   "execution_count": 4,
   "metadata": {},
   "outputs": [],
   "source": [
    "A = np.array(area)\n",
    "y = np.array(price)\n",
    "A = A.reshape(A.shape[0],1)\n",
    "\n",
    "# add a column with all entries 1 to area\n",
    "def add_column(A):\n",
    "    temp = np.ones((A.shape[0], 1))\n",
    "    A = np.concatenate((temp, A), axis = 1)\n",
    "    return A\n",
    "    \n",
    "def find_least_square_cofactors(A, y):\n",
    "    A = add_column(A)\n",
    "    A_trans = A.transpose()\n",
    "    Atrans_dot_A = np.dot(A_trans, A)\n",
    "    Atrans_dot_A_inverse = np.linalg.inv(Atrans_dot_A)\n",
    "    Atrans_dot_y = np.dot(A_trans, y)\n",
    "    return np.dot(Atrans_dot_A_inverse, Atrans_dot_y)"
   ]
  },
  {
   "cell_type": "code",
   "execution_count": 5,
   "metadata": {
    "pycharm": {
     "is_executing": true
    }
   },
   "outputs": [
    {
     "name": "stdout",
     "output_type": "stream",
     "text": [
      "w:  5344.954584090243  and b:  99.46071089764183\n"
     ]
    }
   ],
   "source": [
    "w = 0\n",
    "b = 0\n",
    "w,b = find_least_square_cofactors(A, y)\n",
    "print(\"w: \", w, \" and b: \", b)"
   ]
  },
  {
   "cell_type": "markdown",
   "metadata": {},
   "source": [
    "<div style=\"text-align: right\">\n",
    "مرحله سوم: نمایش پاسخ\n",
    "</div>"
   ]
  },
  {
   "cell_type": "code",
   "execution_count": 7,
   "metadata": {},
   "outputs": [
    {
     "data": {
      "image/png": "[encoded data removed]",
      "text/plain": [
       "<Figure size 432x288 with 1 Axes>"
      ]
     },
     "metadata": {
      "needs_background": "light"
     },
     "output_type": "display_data"
    }
   ],
   "source": [
    "#show dataset points\n",
    "plt.scatter(area, price, label=\"dataset\")\n",
    "x = np.linspace(0, 500, 1000)\n",
    "#the answer\n",
    "line = b*x+w\n",
    "plt.plot(x, line, color=\"r\", label=\"prdeiction\")\n",
    "plt.xlabel(\"area\")\n",
    "plt.ylabel(\"price\")\n",
    "plt.legend()\n",
    "plt.show()"
   ]
  },
  {
   "cell_type": "markdown",
   "metadata": {},
   "source": [
    "<div style=\"text-align: right\">\n",
    "مرحله چهارم : محاسبه Mean Squared Error\n",
    "</div>"
   ]
  },
  {
   "cell_type": "code",
   "execution_count": 8,
   "metadata": {
    "pycharm": {
     "is_executing": true
    }
   },
   "outputs": [
    {
     "name": "stdout",
     "output_type": "stream",
     "text": [
      "MSE:  3890739.3536315025\n"
     ]
    }
   ],
   "source": [
    "def mean_square_error():\n",
    "    y_prediction = b*area+w\n",
    "    differences = np.subtract(y, y_prediction)\n",
    "    squared_differences = np.square(differences)\n",
    "    return squared_differences.mean()\n",
    "\n",
    "mse = mean_square_error()\n",
    "print(\"MSE: \", mse)"
   ]
  },
  {
   "cell_type": "markdown",
   "metadata": {},
   "source": [
    "<div style=\"text-align: right\">\n",
    "مرحله پنجم : تکمیل تابع predict و پیش بینی قیمت خانه‌ها\n",
    "</div>"
   ]
  },
  {
   "cell_type": "code",
   "execution_count": 9,
   "metadata": {},
   "outputs": [],
   "source": [
    "def predict(x) :\n",
    "    return b*x+w"
   ]
  },
  {
   "cell_type": "markdown",
   "metadata": {},
   "source": [
    "<div style=\"text-align: right\">\n",
    "test cases\n",
    "</div>"
   ]
  },
  {
   "cell_type": "code",
   "execution_count": 10,
   "metadata": {
    "pycharm": {
     "is_executing": true
    }
   },
   "outputs": [
    {
     "name": "stdout",
     "output_type": "stream",
     "text": [
      "12307.204346925171\n",
      "16285.632782830844\n",
      "24242.48965464219\n",
      "31204.739417477118\n",
      "35183.167853382794\n",
      "42145.41761621772\n"
     ]
    }
   ],
   "source": [
    "print(predict(70))  # Correct Answer = 12307.204346925195\n",
    "print(predict(110)) # Correct Answer = 16285.632782830866\n",
    "print(predict(190)) # Correct Answer = 24242.489654642202\n",
    "print(predict(260)) # Correct Answer = 31204.739417477125\n",
    "print(predict(300)) # Correct Answer = 35183.167853382794\n",
    "print(predict(370)) # Correct Answer = 42145.41761621772"
   ]
  },
  {
   "cell_type": "code",
   "execution_count": null,
   "metadata": {},
   "outputs": [],
   "source": []
  }
 ],
 "metadata": {
  "kernelspec": {
   "display_name": "Python 3 (ipykernel)",
   "language": "python",
   "name": "python3"
  },
  "language_info": {
   "codemirror_mode": {
    "name": "ipython",
    "version": 3
   },
   "file_extension": ".py",
   "mimetype": "text/x-python",
   "name": "python",
   "nbconvert_exporter": "python",
   "pygments_lexer": "ipython3",
   "version": "3.9.12"
  }
 },
 "nbformat": 4,
 "nbformat_minor": 1
}
